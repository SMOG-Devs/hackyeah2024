{
 "cells": [
  {
   "cell_type": "code",
   "execution_count": 6,
   "id": "initial_id",
   "metadata": {
    "collapsed": true,
    "ExecuteTime": {
     "end_time": "2024-09-28T19:41:08.627316900Z",
     "start_time": "2024-09-28T19:41:07.613503900Z"
    }
   },
   "outputs": [
    {
     "name": "stdout",
     "output_type": "stream",
     "text": [
      "MoviePy - Writing audio in output_audio.mp3\n"
     ]
    },
    {
     "name": "stderr",
     "output_type": "stream",
     "text": [
      "                                                                    "
     ]
    },
    {
     "name": "stdout",
     "output_type": "stream",
     "text": [
      "MoviePy - Done.\n"
     ]
    },
    {
     "name": "stderr",
     "output_type": "stream",
     "text": [
      "\r"
     ]
    }
   ],
   "source": [
    "from moviepy.editor import VideoFileClip\n",
    "\n",
    "def extract_audio(video_path: str, audio_path: str) -> None:\n",
    "    \"\"\"\n",
    "    Extracts audio from a video file and saves it to the specified audio file.\n",
    "    \n",
    "    Args:\n",
    "        video_path (str): The path to the input video file.\n",
    "        audio_path (str): The path to save the extracted audio file.\n",
    "        \n",
    "    Returns:\n",
    "        None\n",
    "    \"\"\"\n",
    "    # Load the video file\n",
    "    video = VideoFileClip(video_path)\n",
    "    \n",
    "    # Extract audio\n",
    "    audio = video.audio\n",
    "    \n",
    "    # Write audio to the specified file\n",
    "    audio.write_audiofile(audio_path)\n",
    "    \n",
    "    # Close video and audio files\n",
    "    audio.close()\n",
    "    video.close()\n",
    "\n",
    "# Example usage\n",
    "input_video = r\"C:\\coding\\hackyeah2024\\data\\videos\\HY_2024_film_01.mp4\"\n",
    "extract_audio(input_video, \"output_audio.mp3\")"
   ]
  },
  {
   "cell_type": "code",
   "execution_count": null,
   "outputs": [],
   "source": [],
   "metadata": {
    "collapsed": false
   },
   "id": "382c6bf05931ded"
  }
 ],
 "metadata": {
  "kernelspec": {
   "display_name": "Python 3",
   "language": "python",
   "name": "python3"
  },
  "language_info": {
   "codemirror_mode": {
    "name": "ipython",
    "version": 2
   },
   "file_extension": ".py",
   "mimetype": "text/x-python",
   "name": "python",
   "nbconvert_exporter": "python",
   "pygments_lexer": "ipython2",
   "version": "2.7.6"
  }
 },
 "nbformat": 4,
 "nbformat_minor": 5
}
