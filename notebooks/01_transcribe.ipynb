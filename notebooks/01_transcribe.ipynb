{
 "metadata": {
  "kernelspec": {
   "language": "python",
   "display_name": "Python 3",
   "name": "python3"
  },
  "language_info": {
   "name": "python",
   "version": "3.10.14",
   "mimetype": "text/x-python",
   "codemirror_mode": {
    "name": "ipython",
    "version": 3
   },
   "pygments_lexer": "ipython3",
   "nbconvert_exporter": "python",
   "file_extension": ".py"
  },
  "kaggle": {
   "accelerator": "gpu",
   "dataSources": [
    {
     "sourceId": 9502441,
     "sourceType": "datasetVersion",
     "datasetId": 5783215
    }
   ],
   "dockerImageVersionId": 30776,
   "isInternetEnabled": true,
   "language": "python",
   "sourceType": "notebook",
   "isGpuEnabled": true
  }
 },
 "nbformat_minor": 4,
 "nbformat": 4,
 "cells": [
  {
   "cell_type": "code",
   "source": [
    "!pip install -U openai-whisper"
   ],
   "metadata": {
    "execution": {
     "iopub.status.busy": "2024-09-28T15:23:03.757453Z",
     "iopub.execute_input": "2024-09-28T15:23:03.758206Z",
     "iopub.status.idle": "2024-09-28T15:23:36.073357Z",
     "shell.execute_reply.started": "2024-09-28T15:23:03.758164Z",
     "shell.execute_reply": "2024-09-28T15:23:36.072372Z"
    },
    "trusted": true
   },
   "execution_count": 1,
   "outputs": [
    {
     "name": "stdout",
     "text": "Collecting openai-whisper\n  Downloading openai-whisper-20240927.tar.gz (800 kB)\n\u001B[2K     \u001B[90m━━━━━━━━━━━━━━━━━━━━━━━━━━━━━━━━━━━━━━\u001B[0m \u001B[32m800.0/800.0 kB\u001B[0m \u001B[31m10.3 MB/s\u001B[0m eta \u001B[36m0:00:00\u001B[0m00:01\u001B[0m00:01\u001B[0m\n\u001B[?25h  Installing build dependencies ... \u001B[?25ldone\n\u001B[?25h  Getting requirements to build wheel ... \u001B[?25ldone\n\u001B[?25h  Preparing metadata (pyproject.toml) ... \u001B[?25ldone\n\u001B[?25hRequirement already satisfied: numba in /opt/conda/lib/python3.10/site-packages (from openai-whisper) (0.60.0)\nRequirement already satisfied: numpy in /opt/conda/lib/python3.10/site-packages (from openai-whisper) (1.26.4)\nRequirement already satisfied: torch in /opt/conda/lib/python3.10/site-packages (from openai-whisper) (2.4.0)\nRequirement already satisfied: tqdm in /opt/conda/lib/python3.10/site-packages (from openai-whisper) (4.66.4)\nRequirement already satisfied: more-itertools in /opt/conda/lib/python3.10/site-packages (from openai-whisper) (10.3.0)\nCollecting tiktoken (from openai-whisper)\n  Downloading tiktoken-0.7.0-cp310-cp310-manylinux_2_17_x86_64.manylinux2014_x86_64.whl.metadata (6.6 kB)\nCollecting triton>=2.0.0 (from openai-whisper)\n  Downloading triton-3.0.0-1-cp310-cp310-manylinux2014_x86_64.manylinux_2_17_x86_64.whl.metadata (1.3 kB)\nRequirement already satisfied: filelock in /opt/conda/lib/python3.10/site-packages (from triton>=2.0.0->openai-whisper) (3.15.1)\nRequirement already satisfied: llvmlite<0.44,>=0.43.0dev0 in /opt/conda/lib/python3.10/site-packages (from numba->openai-whisper) (0.43.0)\nRequirement already satisfied: regex>=2022.1.18 in /opt/conda/lib/python3.10/site-packages (from tiktoken->openai-whisper) (2024.5.15)\nRequirement already satisfied: requests>=2.26.0 in /opt/conda/lib/python3.10/site-packages (from tiktoken->openai-whisper) (2.32.3)\nRequirement already satisfied: typing-extensions>=4.8.0 in /opt/conda/lib/python3.10/site-packages (from torch->openai-whisper) (4.12.2)\nRequirement already satisfied: sympy in /opt/conda/lib/python3.10/site-packages (from torch->openai-whisper) (1.13.3)\nRequirement already satisfied: networkx in /opt/conda/lib/python3.10/site-packages (from torch->openai-whisper) (3.3)\nRequirement already satisfied: jinja2 in /opt/conda/lib/python3.10/site-packages (from torch->openai-whisper) (3.1.4)\nRequirement already satisfied: fsspec in /opt/conda/lib/python3.10/site-packages (from torch->openai-whisper) (2024.6.1)\nRequirement already satisfied: charset-normalizer<4,>=2 in /opt/conda/lib/python3.10/site-packages (from requests>=2.26.0->tiktoken->openai-whisper) (3.3.2)\nRequirement already satisfied: idna<4,>=2.5 in /opt/conda/lib/python3.10/site-packages (from requests>=2.26.0->tiktoken->openai-whisper) (3.7)\nRequirement already satisfied: urllib3<3,>=1.21.1 in /opt/conda/lib/python3.10/site-packages (from requests>=2.26.0->tiktoken->openai-whisper) (1.26.18)\nRequirement already satisfied: certifi>=2017.4.17 in /opt/conda/lib/python3.10/site-packages (from requests>=2.26.0->tiktoken->openai-whisper) (2024.8.30)\nRequirement already satisfied: MarkupSafe>=2.0 in /opt/conda/lib/python3.10/site-packages (from jinja2->torch->openai-whisper) (2.1.5)\nRequirement already satisfied: mpmath<1.4,>=1.1.0 in /opt/conda/lib/python3.10/site-packages (from sympy->torch->openai-whisper) (1.3.0)\nDownloading triton-3.0.0-1-cp310-cp310-manylinux2014_x86_64.manylinux_2_17_x86_64.whl (209.4 MB)\n\u001B[2K   \u001B[90m━━━━━━━━━━━━━━━━━━━━━━━━━━━━━━━━━━━━━━━━\u001B[0m \u001B[32m209.4/209.4 MB\u001B[0m \u001B[31m7.5 MB/s\u001B[0m eta \u001B[36m0:00:00\u001B[0m:00:01\u001B[0m00:01\u001B[0m\n\u001B[?25hDownloading tiktoken-0.7.0-cp310-cp310-manylinux_2_17_x86_64.manylinux2014_x86_64.whl (1.1 MB)\n\u001B[2K   \u001B[90m━━━━━━━━━━━━━━━━━━━━━━━━━━━━━━━━━━━━━━━━\u001B[0m \u001B[32m1.1/1.1 MB\u001B[0m \u001B[31m25.6 MB/s\u001B[0m eta \u001B[36m0:00:00\u001B[0m:00:01\u001B[0m\n\u001B[?25hBuilding wheels for collected packages: openai-whisper\n  Building wheel for openai-whisper (pyproject.toml) ... \u001B[?25ldone\n\u001B[?25h  Created wheel for openai-whisper: filename=openai_whisper-20240927-py3-none-any.whl size=802818 sha256=363674a2b94f3bcfc322be5214af614e0fd58dc3ef08f5373bb18c01bf373c87\n  Stored in directory: /root/.cache/pip/wheels/1c/d0/fd/81c5b31ba2016ac95f2f8e41d0e7016f2aab2a0bd306a7ab59\nSuccessfully built openai-whisper\nInstalling collected packages: triton, tiktoken, openai-whisper\nSuccessfully installed openai-whisper-20240927 tiktoken-0.7.0 triton-3.0.0\n",
     "output_type": "stream"
    }
   ]
  },
  {
   "cell_type": "code",
   "source": [
    "import whisper\n",
    "\n",
    "model = whisper.load_model(\"large\")\n",
    "result = model.transcribe(r\"/kaggle/input/hackyeah-wordtraps/HY_2024_film_01.mp4\",word_timestamps=True,verbose=True)"
   ],
   "metadata": {
    "_uuid": "8f2839f25d086af736a60e9eeb907d3b93b6e0e5",
    "_cell_guid": "b1076dfc-b9ad-4769-8c92-a6c4dae69d19",
    "execution": {
     "iopub.status.busy": "2024-09-28T15:51:12.632964Z",
     "iopub.execute_input": "2024-09-28T15:51:12.633350Z",
     "iopub.status.idle": "2024-09-28T15:51:24.121193Z",
     "shell.execute_reply.started": "2024-09-28T15:51:12.633315Z",
     "shell.execute_reply": "2024-09-28T15:51:24.120167Z"
    },
    "trusted": true,
    "is_executing": true
   },
   "execution_count": null,
   "outputs": []
  },
  {
   "cell_type": "code",
   "source": [
    "result"
   ],
   "metadata": {
    "execution": {
     "iopub.status.busy": "2024-09-28T15:49:34.520495Z",
     "iopub.execute_input": "2024-09-28T15:49:34.521037Z",
     "iopub.status.idle": "2024-09-28T15:49:34.536845Z",
     "shell.execute_reply.started": "2024-09-28T15:49:34.520998Z",
     "shell.execute_reply": "2024-09-28T15:49:34.535815Z"
    },
    "trusted": true
   },
   "execution_count": 9,
   "outputs": [
    {
     "execution_count": 9,
     "output_type": "execute_result",
     "data": {
      "text/plain": "{'text': ' Ałdytem ubieliliśmy 96 podmiotów, a łączna kwota badanych środków publicznych to około 100 miliardów złotych. W toku działania stwierdziliśmy między innymi niegospodarne i niecelowe wydatkowanie środków publicznych, udzielenie dotacji podmiotów, które nie spełniały kryteriów konkursowych.',\n 'segments': [{'id': 0,\n   'seek': 0,\n   'start': 11.16,\n   'end': 17.14,\n   'text': ' Ałdytem ubieliliśmy 96 podmiotów, a łączna kwota badanych środków publicznych to około 100 miliardów złotych.',\n   'tokens': [50364,\n    316,\n    1221,\n    3173,\n    18275,\n    26709,\n    1187,\n    43912,\n    24124,\n    2497,\n    3057,\n    310,\n    3901,\n    11,\n    257,\n    220,\n    43558,\n    629,\n    23846,\n    5377,\n    1578,\n    34644,\n    28580,\n    23849,\n    1908,\n    89,\n    9399,\n    281,\n    45730,\n    5249,\n    2319,\n    1962,\n    72,\n    515,\n    3901,\n    31614,\n    6737,\n    339,\n    13,\n    51212],\n   'temperature': 0.4,\n   'avg_logprob': -0.3281628163655599,\n   'compression_ratio': 1.3372093023255813,\n   'no_speech_prob': 0.08741634339094162,\n   'words': [{'word': ' Ałdytem',\n     'start': 11.16,\n     'end': 11.96,\n     'probability': 0.5209329146891832},\n    {'word': ' ubieliliśmy',\n     'start': 11.96,\n     'end': 12.44,\n     'probability': 0.5296872357527415},\n    {'word': ' 96',\n     'start': 12.44,\n     'end': 13.06,\n     'probability': 0.9561727643013},\n    {'word': ' podmiotów,',\n     'start': 13.06,\n     'end': 13.6,\n     'probability': 0.9978313446044922},\n    {'word': ' a',\n     'start': 13.66,\n     'end': 13.72,\n     'probability': 0.987304151058197},\n    {'word': ' łączna',\n     'start': 13.72,\n     'end': 13.98,\n     'probability': 0.655975729227066},\n    {'word': ' kwota',\n     'start': 13.98,\n     'end': 14.24,\n     'probability': 0.9914032220840454},\n    {'word': ' badanych',\n     'start': 14.24,\n     'end': 14.6,\n     'probability': 0.8391917645931244},\n    {'word': ' środków',\n     'start': 14.6,\n     'end': 15.02,\n     'probability': 0.9821772873401642},\n    {'word': ' publicznych',\n     'start': 15.02,\n     'end': 15.42,\n     'probability': 0.9960449536641439},\n    {'word': ' to',\n     'start': 15.42,\n     'end': 15.58,\n     'probability': 0.976920485496521},\n    {'word': ' około',\n     'start': 15.58,\n     'end': 15.86,\n     'probability': 0.925740122795105},\n    {'word': ' 100',\n     'start': 15.86,\n     'end': 16.04,\n     'probability': 0.9792249798774719},\n    {'word': ' miliardów',\n     'start': 16.04,\n     'end': 16.44,\n     'probability': 0.8936939686536789},\n    {'word': ' złotych.',\n     'start': 16.44,\n     'end': 17.14,\n     'probability': 0.9914323687553406}]},\n  {'id': 1,\n   'seek': 0,\n   'start': 17.24,\n   'end': 23.74,\n   'text': ' W toku działania stwierdziliśmy między innymi niegospodarne i niecelowe wydatkowanie środków publicznych,',\n   'tokens': [51212,\n    343,\n    281,\n    5279,\n    27121,\n    5609,\n    342,\n    40717,\n    28168,\n    43912,\n    33964,\n    294,\n    31813,\n    2838,\n    70,\n    2763,\n    43211,\n    716,\n    741,\n    2838,\n    4933,\n    6880,\n    4628,\n    20367,\n    74,\n    22028,\n    28580,\n    23849,\n    1908,\n    89,\n    9399,\n    11,\n    51544],\n   'temperature': 0.4,\n   'avg_logprob': -0.3281628163655599,\n   'compression_ratio': 1.3372093023255813,\n   'no_speech_prob': 0.08741634339094162,\n   'words': [{'word': ' W',\n     'start': 17.24,\n     'end': 17.24,\n     'probability': 0.9870198965072632},\n    {'word': ' toku',\n     'start': 17.24,\n     'end': 17.5,\n     'probability': 0.9551641047000885},\n    {'word': ' działania',\n     'start': 17.5,\n     'end': 17.76,\n     'probability': 0.8685992062091827},\n    {'word': ' stwierdziliśmy',\n     'start': 17.76,\n     'end': 18.22,\n     'probability': 0.9896372109651566},\n    {'word': ' między',\n     'start': 18.22,\n     'end': 18.5,\n     'probability': 0.5652256608009338},\n    {'word': ' innymi',\n     'start': 18.5,\n     'end': 18.84,\n     'probability': 0.9978459775447845},\n    {'word': ' niegospodarne',\n     'start': 18.84,\n     'end': 19.54,\n     'probability': 0.9252953886985779},\n    {'word': ' i',\n     'start': 19.54,\n     'end': 19.62,\n     'probability': 0.9836349487304688},\n    {'word': ' niecelowe',\n     'start': 19.62,\n     'end': 20.1,\n     'probability': 0.959343433380127},\n    {'word': ' wydatkowanie',\n     'start': 20.1,\n     'end': 20.76,\n     'probability': 0.8343938589096069},\n    {'word': ' środków',\n     'start': 20.76,\n     'end': 22.72,\n     'probability': 0.9975917041301727},\n    {'word': ' publicznych,',\n     'start': 22.72,\n     'end': 23.74,\n     'probability': 0.9661281108856201}]},\n  {'id': 2,\n   'seek': 2374,\n   'start': 23.74,\n   'end': 28.68,\n   'text': ' udzielenie dotacji podmiotów, które nie spełniały kryteriów konkursowych.',\n   'tokens': [50364,\n    11727,\n    89,\n    12844,\n    414,\n    5893,\n    13152,\n    2497,\n    3057,\n    310,\n    3901,\n    11,\n    8864,\n    2838,\n    768,\n    1221,\n    12679,\n    6825,\n    34847,\n    34345,\n    3901,\n    21428,\n    2156,\n    19605,\n    13,\n    50744],\n   'temperature': 0.0,\n   'avg_logprob': -0.23604050389042608,\n   'compression_ratio': 0.9512195121951219,\n   'no_speech_prob': 0.5528848767280579,\n   'words': [{'word': ' udzielenie',\n     'start': 23.74,\n     'end': 24.36,\n     'probability': 0.9491782933473587},\n    {'word': ' dotacji',\n     'start': 24.36,\n     'end': 24.76,\n     'probability': 0.9876062572002411},\n    {'word': ' podmiotów,',\n     'start': 24.76,\n     'end': 25.28,\n     'probability': 0.9969026148319244},\n    {'word': ' które',\n     'start': 25.4,\n     'end': 25.48,\n     'probability': 0.9972025156021118},\n    {'word': ' nie',\n     'start': 25.48,\n     'end': 25.74,\n     'probability': 0.9925985336303711},\n    {'word': ' spełniały',\n     'start': 25.74,\n     'end': 26.4,\n     'probability': 0.9964781999588013},\n    {'word': ' kryteriów',\n     'start': 26.4,\n     'end': 27.88,\n     'probability': 0.9928050637245178},\n    {'word': ' konkursowych.',\n     'start': 27.88,\n     'end': 28.68,\n     'probability': 0.997186541557312}]}],\n 'language': 'pl'}"
     },
     "metadata": {}
    }
   ]
  },
  {
   "cell_type": "code",
   "source": [
    "# load audio and pad/trim it to fit 30 seconds\n",
    "audio = whisper.load_audio(\"/kaggle/input/hackyeah-wordtraps/HY_2024_film_01.mp4\")\n",
    "audio = whisper.pad_or_trim(audio)\n",
    "\n",
    "# make log-Mel spectrogram and move to the same device as the model\n",
    "mel = whisper.log_mel_spectrogram(audio).to(model.device)\n",
    "\n",
    "# detect the spoken language\n",
    "_, probs = model.detect_language(mel)\n",
    "print(f\"Detected language: {max(probs, key=probs.get)}\")\n",
    "\n",
    "# decode the audio\n",
    "options = whisper.DecodingOptions()\n",
    "result = whisper.decode(model, mel, options)\n",
    "\n",
    "# print the recognized text\n",
    "print(result)"
   ],
   "metadata": {
    "execution": {
     "iopub.status.busy": "2024-09-28T15:37:05.305324Z",
     "iopub.execute_input": "2024-09-28T15:37:05.306229Z",
     "iopub.status.idle": "2024-09-28T15:37:13.314503Z",
     "shell.execute_reply.started": "2024-09-28T15:37:05.306186Z",
     "shell.execute_reply": "2024-09-28T15:37:13.313654Z"
    },
    "trusted": true
   },
   "execution_count": 5,
   "outputs": [
    {
     "name": "stdout",
     "text": "Detected language: pl\nAby wydać się w ten sposób, to trzeba być w stanie, żeby wydać się w ten sposób. I to jest to, co mamy w tym temacie. I to jest to, co mamy w tym temacie. I to jest to, co mamy w tym temacie. I to jest to, co mamy w tym temacie. I to jest to, co mamy w tym temacie. I to jest to, co mamy w tym temacie. I to jest to, co mamy w tym temacie. I to jest to, co mamy w tym temacie. I to jest to, co mamy w tym temacie. I to jest to, co mamy w tym temacie. I to jest to, co mamy w tym temacie. I to jest to, co mamy w tym temacie.\n",
     "output_type": "stream"
    }
   ]
  },
  {
   "cell_type": "code",
   "source": [
    "print(result)"
   ],
   "metadata": {
    "execution": {
     "iopub.status.busy": "2024-09-28T15:37:53.321233Z",
     "iopub.execute_input": "2024-09-28T15:37:53.321621Z",
     "iopub.status.idle": "2024-09-28T15:37:53.392193Z",
     "shell.execute_reply.started": "2024-09-28T15:37:53.321582Z",
     "shell.execute_reply": "2024-09-28T15:37:53.391260Z"
    },
    "trusted": true
   },
   "execution_count": 6,
   "outputs": [
    {
     "name": "stdout",
     "text": "DecodingResult(audio_features=tensor([[ 2.2144e-01,  5.1123e-01,  1.0088e+00,  ..., -1.6345e-01,\n          3.8135e-01,  9.4080e-04],\n        [ 1.5420e+00,  4.5605e-01,  1.0020e+00,  ..., -6.6162e-01,\n         -1.6577e-01, -4.4751e-01],\n        [ 1.3887e+00,  6.7627e-01,  8.7402e-01,  ..., -8.6133e-01,\n          4.9268e-01, -1.3057e+00],\n        ...,\n        [ 9.6240e-01,  8.5742e-01, -4.1016e-01,  ...,  1.4141e+00,\n         -3.3905e-02, -7.4805e-01],\n        [ 5.9424e-01,  3.8599e-01, -8.0322e-01,  ..., -1.4496e-02,\n         -8.7695e-01, -7.0557e-01],\n        [ 2.4622e-01,  1.4062e+00, -1.7502e-02,  ...,  9.7119e-01,\n         -1.8154e+00,  9.0283e-01]], device='cuda:0', dtype=torch.float16), language='pl', language_probs=None, tokens=[50364, 316, 2322, 4628, 2675, 2162, 3244, 261, 2064, 22904, 11, 50464, 50464, 281, 25860, 538, 2162, 261, 40013, 11, 11316, 4628, 2675, 2162, 3244, 261, 2064, 22904, 13, 50564, 50564, 286, 281, 3492, 281, 11, 598, 17335, 261, 8107, 1383, 30805, 13, 50664, 50664, 286, 281, 3492, 281, 11, 598, 17335, 261, 8107, 1383, 30805, 13, 50764, 50764, 286, 281, 3492, 281, 11, 598, 17335, 261, 8107, 1383, 30805, 13, 50864, 50864, 286, 281, 3492, 281, 11, 598, 17335, 261, 8107, 1383, 30805, 13, 50964, 50964, 286, 281, 3492, 281, 11, 598, 17335, 261, 8107, 1383, 30805, 13, 51064, 51064, 286, 281, 3492, 281, 11, 598, 17335, 261, 8107, 1383, 30805, 13, 51164, 51164, 286, 281, 3492, 281, 11, 598, 17335, 261, 8107, 1383, 30805, 13, 51264, 51264, 286, 281, 3492, 281, 11, 598, 17335, 261, 8107, 1383, 30805, 13, 51364, 51364, 286, 281, 3492, 281, 11, 598, 17335, 261, 8107, 1383, 30805, 13, 51464, 51464, 286, 281, 3492, 281, 11, 598, 17335, 261, 8107, 1383, 30805, 13, 51564, 51564, 286, 281, 3492, 281, 11, 598, 17335, 261, 8107, 1383, 30805, 13, 51664, 51664, 286, 281, 3492, 281, 11, 598, 17335, 261, 8107, 1383, 30805, 13, 51764, 51764], text='Aby wydać się w ten sposób, to trzeba być w stanie, żeby wydać się w ten sposób. I to jest to, co mamy w tym temacie. I to jest to, co mamy w tym temacie. I to jest to, co mamy w tym temacie. I to jest to, co mamy w tym temacie. I to jest to, co mamy w tym temacie. I to jest to, co mamy w tym temacie. I to jest to, co mamy w tym temacie. I to jest to, co mamy w tym temacie. I to jest to, co mamy w tym temacie. I to jest to, co mamy w tym temacie. I to jest to, co mamy w tym temacie. I to jest to, co mamy w tym temacie.', avg_logprob=-0.4950467300415039, no_speech_prob=0.08741631358861923, temperature=0.0, compression_ratio=5.115384615384615)\n",
     "output_type": "stream"
    }
   ]
  },
  {
   "cell_type": "code",
   "source": [],
   "metadata": {},
   "execution_count": null,
   "outputs": []
  }
 ]
}
